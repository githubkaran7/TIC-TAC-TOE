{
 "cells": [
  {
   "cell_type": "markdown",
   "id": "7359828c",
   "metadata": {},
   "source": [
    "Here's my first project using python language.\n",
    "\n",
    "Here are the requirements:\n",
    "\n",
    "2 players should be able to play the game (both sitting at the same computer)\n",
    "\n",
    "The board should be printed out every time a player makes a move You should be able to accept input of the player position and then place a symbol on the board.\n",
    "\n",
    "First off, make sure you understand the project scope. What needs to happen?\n",
    "\n",
    "We need to print a board.\n",
    "\n",
    "Take in player input.\n",
    "\n",
    "Place their input on the board.\n",
    "\n",
    "Check if the game is won,tied, lost, or ongoing.\n",
    "\n",
    "Repeat c and d until the game has been won or tied.\n",
    "\n",
    "Ask if players want to play again.\n",
    "\n",
    "PROJECT HINTS:\n",
    "\n",
    "1.Start by deciding how you will store the player's marker positions (Xs and Os). Let's choose a list, where each index corresponds with a number on a keypad, which in turn corresponds with a position on the 3 by 3 board.\n",
    "\n",
    "2.Create a list called board which will keep track of the player markers.\n",
    "\n",
    "3.The list should already be the same length as your intended board.\n",
    "\n",
    "4.Create a function that will print a board. Not just the list, but an actual representation of a board! This can be done with multiple print statements within the function. Think about how you would take elements from the list and print them out into the board. (You can also clear output in jupyter notebook with clear_output() . You need to import this, so at the top of a cell copy and paste: from IPython.display import clear_output.\n",
    "\n",
    "5.Write a function which takes an input marker string 'X' or \"O' and a given number and stores it to a list at that appendix. You might have to look up how to take input in python! input() Play around with input() to make sure you understand it.\n",
    "\n",
    "6.Write a function that takes in the board and a player marker and checks it theres a win or a tie. The checking for a win should be a series of a bunch checks, for example: (board[7] == board[8] == board[9] == marker)would check the first top row if they all match a player's marker. Check for a tie (this means nobody won and the board list is full!)\n",
    "\n",
    "7.Now begin writing functions that begin game play. You'll need to write a function which starts combining and calling the different functions you've made within it. For example, a function which asks for a player's move, then updates the board,then checks for a win, then prints out the board.\n",
    "\n",
    "8.How can you keep the game continually going? Maybe try using a while loop. Something like, while the board isn't full and nobody's won...\n",
    "\n",
    "9.You might want to think about how to use boolean objects as markers of the game's status. Alright we should have enough now to begin piecing things together!\n",
    "\n",
    "We'll go step by step to run this project.\n",
    "\n",
    "Thankyou here's comes my first project.\n",
    "\n",
    "Let's begin."
   ]
  },
  {
   "cell_type": "markdown",
   "id": "5105b1cc",
   "metadata": {},
   "source": [
    "Step 1: Write a function that can print out a board. Set up your board as a list, where each index 1-9 corresponds with a number on a number pad, so you get a 3 by 3 board representation.\n"
   ]
  },
  {
   "cell_type": "code",
   "execution_count": 2,
   "id": "fa4eeea6",
   "metadata": {},
   "outputs": [],
   "source": [
    "from IPython.display import clear_output\n",
    "def display_board(board):\n",
    "    clear_output()\n",
    "    \n",
    "    print(' ' + board[7] + ' | ' + board[8] + ' | ' + board[9])\n",
    "    print(' ' + board[4] + ' | ' + board[5] + ' | ' + board[6])\n",
    "    print(' ' + board[1] + ' | ' + board[2] + ' | ' + board[3])\n"
   ]
  },
  {
   "cell_type": "markdown",
   "id": "14d0d532",
   "metadata": {},
   "source": [
    "TEST Step 1: run your function on a test version of the board list, and make adjustments as necessary\n"
   ]
  },
  {
   "cell_type": "code",
   "execution_count": 4,
   "id": "f1a82c78",
   "metadata": {},
   "outputs": [
    {
     "name": "stdout",
     "output_type": "stream",
     "text": [
      " X | O | X\n",
      " O | X | O\n",
      " X | O | X\n"
     ]
    }
   ],
   "source": [
    "test_board = ['#','X','O','X','O','X','O','X','O','X']\n",
    "display_board(test_board)\n"
   ]
  },
  {
   "cell_type": "markdown",
   "id": "a7bdfd0f",
   "metadata": {},
   "source": [
    "Step 2: Write a function that can take in a player input and assign their marker as 'X' or 'O'. Think about using while loops to continually ask until you get a correct answer.\n"
   ]
  },
  {
   "cell_type": "code",
   "execution_count": 5,
   "id": "1c8ef92f",
   "metadata": {},
   "outputs": [],
   "source": [
    "def player_input():\n",
    "    marker = ''\n",
    "    \n",
    "    while not (marker == 'X' or marker == 'O'):\n",
    "        marker = input('Player 1: Do you want to be X or O? ')\n",
    "\n",
    "    if marker == 'X':\n",
    "        return ('X', 'O')\n",
    "    else:\n",
    "        return ('O', 'X')\n"
   ]
  },
  {
   "cell_type": "markdown",
   "id": "5bfe5460",
   "metadata": {},
   "source": [
    "TEST Step 2: run the function to make sure it returns the desired output\n"
   ]
  },
  {
   "cell_type": "code",
   "execution_count": null,
   "id": "0a2784c8",
   "metadata": {},
   "outputs": [],
   "source": [
    "player_input()\n"
   ]
  },
  {
   "cell_type": "markdown",
   "id": "ce3c04ab",
   "metadata": {},
   "source": [
    "Step 3: Write a function that takes in the board list object, a marker ('X' or 'O'), and a desired position (number 1-9) and assigns it to the board.\n"
   ]
  },
  {
   "cell_type": "code",
   "execution_count": 6,
   "id": "eade42fb",
   "metadata": {},
   "outputs": [],
   "source": [
    "def place_marker(board, marker, position):\n",
    "    board[position] = marker\n"
   ]
  },
  {
   "cell_type": "markdown",
   "id": "d98d82a7",
   "metadata": {},
   "source": [
    "TEST Step 3: run the place marker function using test parameters and display the modified board\n"
   ]
  },
  {
   "cell_type": "code",
   "execution_count": 17,
   "id": "4687c32b",
   "metadata": {},
   "outputs": [
    {
     "name": "stdout",
     "output_type": "stream",
     "text": [
      " X | $ | X\n",
      " O | X | O\n",
      " X | O | X\n"
     ]
    }
   ],
   "source": [
    "place_marker(test_board,'$',8)\n",
    "display_board(test_board)\n"
   ]
  },
  {
   "cell_type": "markdown",
   "id": "48d38fc0",
   "metadata": {},
   "source": [
    "Step 4: Write a function that takes in a board and checks to see if someone has won.\n"
   ]
  },
  {
   "cell_type": "code",
   "execution_count": 7,
   "id": "3cdc0d73",
   "metadata": {},
   "outputs": [],
   "source": [
    "def win_check(board,mark):\n",
    "    \n",
    "    return ((board[7] == mark and board[8] == mark and board[9] == mark) or # across the top\n",
    "    (board[4] == mark and board[5] == mark and board[6] == mark) or # across the middle\n",
    "    (board[1] == mark and board[2] == mark and board[3] == mark) or # across the bottom\n",
    "    (board[7] == mark and board[4] == mark and board[1] == mark) or # down the middle\n",
    "    (board[8] == mark and board[5] == mark and board[2] == mark) or # down the middle\n",
    "    (board[9] == mark and board[6] == mark and board[3] == mark) or # down the right side\n",
    "    (board[7] == mark and board[5] == mark and board[3] == mark) or # diagonal\n",
    "    (board[9] == mark and board[5] == mark and board[1] == mark)) # diagonal\n"
   ]
  },
  {
   "cell_type": "markdown",
   "id": "f6f28828",
   "metadata": {},
   "source": [
    "TEST Step 4: run the win_check function against our test_board - it should return True\n"
   ]
  },
  {
   "cell_type": "code",
   "execution_count": 20,
   "id": "470c63fe",
   "metadata": {},
   "outputs": [
    {
     "data": {
      "text/plain": [
       "True"
      ]
     },
     "execution_count": 20,
     "metadata": {},
     "output_type": "execute_result"
    }
   ],
   "source": [
    "win_check(test_board,'X')\n"
   ]
  },
  {
   "cell_type": "code",
   "execution_count": 8,
   "id": "6b2cdc99",
   "metadata": {},
   "outputs": [],
   "source": [
    " \n",
    "import random\n",
    "\n",
    "def choose_first():\n",
    "    if random.randint(0, 1) == 0:\n",
    "        return 'Player 2'\n",
    "    else:\n",
    "        return 'Player 1'\n"
   ]
  },
  {
   "cell_type": "markdown",
   "id": "e369aa95",
   "metadata": {},
   "source": [
    "Step 6: Write a function that returns a boolean indicating whether a space on the board is freely available.\n"
   ]
  },
  {
   "cell_type": "code",
   "execution_count": 9,
   "id": "5927f449",
   "metadata": {},
   "outputs": [],
   "source": [
    "def space_check(board, position):\n",
    "    \n",
    "    return board[position] == ' '\n"
   ]
  },
  {
   "cell_type": "markdown",
   "id": "3cd129e9",
   "metadata": {},
   "source": [
    "Step 7: Write a function that checks if the board is full and returns a boolean value. True if full, False otherwise.\n"
   ]
  },
  {
   "cell_type": "code",
   "execution_count": 10,
   "id": "dd8418eb",
   "metadata": {},
   "outputs": [],
   "source": [
    "def full_board_check(board):\n",
    "    for i in range(1,10):\n",
    "        if space_check(board, i):\n",
    "            return False\n",
    "    return True\n"
   ]
  },
  {
   "cell_type": "markdown",
   "id": "c41c7649",
   "metadata": {},
   "source": [
    "Step 8: Write a function that asks for a player's next position (as a number 1-9) and then uses the function from step 6 to check if its a free position. If it is, then return the position for later use.\n"
   ]
  },
  {
   "cell_type": "code",
   "execution_count": 12,
   "id": "ec6f86a1",
   "metadata": {},
   "outputs": [],
   "source": [
    "def player_choice(board):\n",
    "    position = 0\n",
    "    \n",
    "    while position not in [1,2,3,4,5,6,7,8,9] or not space_check(board, position):\n",
    "        position = int(input('Choose your next position: (1-9) '))\n",
    "        \n",
    "    return position\n"
   ]
  },
  {
   "cell_type": "markdown",
   "id": "8975a9bb",
   "metadata": {},
   "source": [
    "Step 9: Write a function that asks the player if they want to play again and returns a boolean True if they do want to play again.\n"
   ]
  },
  {
   "cell_type": "code",
   "execution_count": 13,
   "id": "769f5f4d",
   "metadata": {},
   "outputs": [],
   "source": [
    "def replay():\n",
    "    \n",
    "    return input('Do you want to play again? Enter Yes or No: ')\n"
   ]
  },
  {
   "cell_type": "markdown",
   "id": "f22881b7",
   "metadata": {},
   "source": [
    "Step 10: Here comes the hard part! Use while loops and the functions you've made to run the game!\n"
   ]
  },
  {
   "cell_type": "code",
   "execution_count": null,
   "id": "4cf37e57",
   "metadata": {},
   "outputs": [],
   "source": [
    "print('Welcome to Tic Tac Toe!')\n",
    "\n",
    "while True:\n",
    "    # Reset the board\n",
    "    the_board = [' '] * 10\n",
    "    player1_marker, player2_marker = player_input()\n",
    "    turn = choose_first()\n",
    "    print(turn + ' will go first.')\n",
    "    \n",
    "    play_game = input('Are you ready to play? Enter Yes or No.')\n",
    "    \n",
    "    if play_game == 'Yes':\n",
    "        game_on = True\n",
    "    else:\n",
    "        game_on = False\n",
    "\n",
    "    while game_on:\n",
    "        if turn == 'Player 1':\n",
    "            # Player1's turn.\n",
    "            \n",
    "            display_board(the_board)\n",
    "            position = player_choice(the_board)\n",
    "            place_marker(the_board, player1_marker, position)\n",
    "\n",
    "            if win_check(the_board, player1_marker):\n",
    "                display_board(the_board)\n",
    "                print('Congratulations! player 1 have won the game!')\n",
    "                game_on = False\n",
    "            else:\n",
    "                if full_board_check(the_board):\n",
    "                    display_board(the_board)\n",
    "                    print('The game have been drawn!')\n",
    "                    break\n",
    "                else:\n",
    "                    turn = 'Player 2'\n",
    "\n",
    "        else:\n",
    "            # Player2's turn.\n",
    "            \n",
    "            display_board(the_board)\n",
    "            position = player_choice(the_board)\n",
    "            place_marker(the_board, player2_marker, position)\n",
    "\n",
    "            if win_check(the_board, player2_marker):\n",
    "                display_board(the_board)\n",
    "                print('Player 2 has won!')\n",
    "                game_on = False\n",
    "            else:\n",
    "                if full_board_check(the_board):\n",
    "                    display_board(the_board)\n",
    "                    print('The game is a draw!')\n",
    "                    break\n",
    "                else:\n",
    "                    turn = 'Player 1'\n",
    "\n",
    "    if not replay():\n",
    "        break\n"
   ]
  },
  {
   "cell_type": "markdown",
   "id": "e10e59f9",
   "metadata": {},
   "source": []
  }
 ],
 "metadata": {
  "kernelspec": {
   "display_name": "Python 3 (ipykernel)",
   "language": "python",
   "name": "python3"
  },
  "language_info": {
   "codemirror_mode": {
    "name": "ipython",
    "version": 3
   },
   "file_extension": ".py",
   "mimetype": "text/x-python",
   "name": "python",
   "nbconvert_exporter": "python",
   "pygments_lexer": "ipython3",
   "version": "3.9.12"
  }
 },
 "nbformat": 4,
 "nbformat_minor": 5
}
